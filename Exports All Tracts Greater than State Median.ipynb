{
 "cells": [
  {
   "cell_type": "markdown",
   "id": "6a73e903",
   "metadata": {},
   "source": [
    "# Exports all census tracts for a select variable that are higher than the state value"
   ]
  },
  {
   "cell_type": "code",
   "execution_count": 5,
   "id": "156be5fb",
   "metadata": {},
   "outputs": [],
   "source": [
    "import requests\n",
    "import json\n",
    "import pandas as pd"
   ]
  },
  {
   "cell_type": "markdown",
   "id": "57732642",
   "metadata": {},
   "source": [
    "Enter your census api key, the state fips number and the acs data table"
   ]
  },
  {
   "cell_type": "code",
   "execution_count": 6,
   "id": "c5931fa7",
   "metadata": {},
   "outputs": [],
   "source": [
    "#enter your census api key\n",
    "census_api_key = ''\n",
    "#enter the state fips code\n",
    "stateKey = '26'\n",
    "#enter the acs table you wish to evaluate\n",
    "dataKey = 'B19013_001E'\n",
    "#Choose output name\n",
    "outputName = 'testOutput'\n",
    "#choose output location\n",
    "outputLocation = ''"
   ]
  },
  {
   "cell_type": "code",
   "execution_count": 7,
   "id": "523f95d5",
   "metadata": {},
   "outputs": [],
   "source": [
    "def json_to_dataframe(response):\n",
    "   \n",
    "    return pd.DataFrame(response.json()[1:], columns=response.json()[0])"
   ]
  },
  {
   "cell_type": "code",
   "execution_count": 8,
   "id": "0764bff9",
   "metadata": {},
   "outputs": [
    {
     "name": "stdout",
     "output_type": "stream",
     "text": [
      "59234\n"
     ]
    }
   ],
   "source": [
    "#returns the value for the state\n",
    "url = f'https://api.census.gov/data/2020/acs/acs5?get=NAME,{dataKey}&for=state:{stateKey}&key='+census_api_key \n",
    "response = requests.request(\"GET\", url)\n",
    "state_transform = json_to_dataframe(response)\n",
    "state_Value = int(state_transform[dataKey][0])\n",
    "print(state_Value)"
   ]
  },
  {
   "cell_type": "code",
   "execution_count": 9,
   "id": "ee8cd239",
   "metadata": {},
   "outputs": [
    {
     "name": "stdout",
     "output_type": "stream",
     "text": [
      "                                                NAME B19013_001E state county  \\\n",
      "0          Census Tract 28, Genesee County, Michigan       12423    26    049   \n",
      "1          Census Tract 38, Genesee County, Michigan       20250    26    049   \n",
      "2       Census Tract 219.01, Ottawa County, Michigan       79957    26    139   \n",
      "3       Census Tract 219.02, Ottawa County, Michigan       70944    26    139   \n",
      "4       Census Tract 220.01, Ottawa County, Michigan       63670    26    139   \n",
      "...                                              ...         ...   ...    ...   \n",
      "2808    Census Tract 14, Charlevoix County, Michigan       58143    26    029   \n",
      "2809    Census Tract 10, Charlevoix County, Michigan       52644    26    029   \n",
      "2810    Census Tract 11, Charlevoix County, Michigan       46042    26    029   \n",
      "2811    Census Tract 15, Charlevoix County, Michigan       33984    26    029   \n",
      "2812  Census Tract 9900, Charlevoix County, Michigan  -666666666    26    029   \n",
      "\n",
      "       tract  \n",
      "0     002800  \n",
      "1     003800  \n",
      "2     021901  \n",
      "3     021902  \n",
      "4     022001  \n",
      "...      ...  \n",
      "2808  001400  \n",
      "2809  001000  \n",
      "2810  001100  \n",
      "2811  001500  \n",
      "2812  990000  \n",
      "\n",
      "[2813 rows x 5 columns]\n"
     ]
    }
   ],
   "source": [
    "#prints each census tract value\n",
    "url = f'https://api.census.gov/data/2019/acs/acs5?get=NAME,{dataKey}&for=tract:*&in=state:{stateKey}&in=county:*&key='+census_api_key # create the url of your census data\n",
    "tractresponse = requests.request(\"GET\", url)\n",
    "tract_transform = json_to_dataframe(tractresponse)\n",
    "print(tract_transform)"
   ]
  },
  {
   "cell_type": "code",
   "execution_count": 10,
   "id": "cf0874f5",
   "metadata": {},
   "outputs": [
    {
     "name": "stdout",
     "output_type": "stream",
     "text": [
      "                                           NAME B19013_001E state county  \\\n",
      "0     Census Tract 28, Genesee County, Michigan       12423    26    049   \n",
      "1     Census Tract 38, Genesee County, Michigan       20250    26    049   \n",
      "2  Census Tract 219.01, Ottawa County, Michigan       79957    26    139   \n",
      "3  Census Tract 219.02, Ottawa County, Michigan       70944    26    139   \n",
      "4  Census Tract 220.01, Ottawa County, Michigan       63670    26    139   \n",
      "\n",
      "    tract  \n",
      "0  002800  \n",
      "1  003800  \n",
      "2  021901  \n",
      "3  021902  \n",
      "4  022001  \n"
     ]
    }
   ],
   "source": [
    "df = pd.DataFrame(tract_transform)\n",
    "print(df.head())"
   ]
  },
  {
   "cell_type": "code",
   "execution_count": 12,
   "id": "a4ed22eb",
   "metadata": {},
   "outputs": [
    {
     "name": "stdout",
     "output_type": "stream",
     "text": [
      "                                              NAME B19013_001E state county  \\\n",
      "2     Census Tract 219.01, Ottawa County, Michigan       79957    26    139   \n",
      "3     Census Tract 219.02, Ottawa County, Michigan       70944    26    139   \n",
      "4     Census Tract 220.01, Ottawa County, Michigan       63670    26    139   \n",
      "5     Census Tract 220.02, Ottawa County, Michigan       76977    26    139   \n",
      "6     Census Tract 221.03, Ottawa County, Michigan       96648    26    139   \n",
      "...                                            ...         ...   ...    ...   \n",
      "2793    Census Tract 607, Lenawee County, Michigan       65762    26    091   \n",
      "2801     Census Tract 9502, Mason County, Michigan       59934    26    105   \n",
      "2803     Census Tract 9503, Mason County, Michigan       65588    26    105   \n",
      "2805     Census Tract 9508, Mason County, Michigan       62845    26    105   \n",
      "2806  Census Tract 12, Charlevoix County, Michigan       66875    26    029   \n",
      "\n",
      "       tract  \n",
      "2     021901  \n",
      "3     021902  \n",
      "4     022001  \n",
      "5     022002  \n",
      "6     022103  \n",
      "...      ...  \n",
      "2793  060700  \n",
      "2801  950200  \n",
      "2803  950300  \n",
      "2805  950800  \n",
      "2806  001200  \n",
      "\n",
      "[1146 rows x 5 columns]\n"
     ]
    }
   ],
   "source": [
    "#returns tracts higher than state value\n",
    "tract_value = df[df[dataKey].astype(int)>state_Value]\n",
    "print(tract_value)\n"
   ]
  },
  {
   "cell_type": "code",
   "execution_count": 13,
   "id": "a47ed971",
   "metadata": {},
   "outputs": [],
   "source": [
    "tract_value.to_csv(r'{}{}.csv'.format(outputLocation, outputName), index=False)"
   ]
  },
  {
   "cell_type": "code",
   "execution_count": null,
   "id": "6f54eeae",
   "metadata": {},
   "outputs": [],
   "source": []
  }
 ],
 "metadata": {
  "kernelspec": {
   "display_name": "Python 3",
   "language": "python",
   "name": "python3"
  },
  "language_info": {
   "codemirror_mode": {
    "name": "ipython",
    "version": 3
   },
   "file_extension": ".py",
   "mimetype": "text/x-python",
   "name": "python",
   "nbconvert_exporter": "python",
   "pygments_lexer": "ipython3",
   "version": "3.7.11"
  }
 },
 "nbformat": 4,
 "nbformat_minor": 5
}
