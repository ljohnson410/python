{
 "cells": [
  {
   "cell_type": "markdown",
   "id": "fd9b7652",
   "metadata": {},
   "source": [
    "# Exports the top value census tract for each county"
   ]
  },
  {
   "cell_type": "code",
   "execution_count": 10,
   "id": "8793f781",
   "metadata": {},
   "outputs": [],
   "source": [
    "import requests\n",
    "import json\n",
    "import pandas as pd"
   ]
  },
  {
   "cell_type": "code",
   "execution_count": 11,
   "id": "45e25def",
   "metadata": {},
   "outputs": [],
   "source": [
    "#enter your census api key\n",
    "census_api_key = ''\n",
    "#enter the state fips code\n",
    "stateKey = '26'\n",
    "#enter the acs table you wish to evaluate\n",
    "dataKey = 'B19013_001E'\n",
    "#Choose output name\n",
    "outputName = 'testOutput3'\n",
    "#choose output location\n",
    "outputLocation = ''"
   ]
  },
  {
   "cell_type": "code",
   "execution_count": 12,
   "id": "a36bfe40",
   "metadata": {},
   "outputs": [],
   "source": [
    "def json_to_dataframe(response):\n",
    "    \n",
    "    return pd.DataFrame(response.json()[1:], columns=response.json()[0])"
   ]
  },
  {
   "cell_type": "code",
   "execution_count": 13,
   "id": "7d74ca53",
   "metadata": {},
   "outputs": [
    {
     "name": "stdout",
     "output_type": "stream",
     "text": [
      "                                                NAME B19013_001E state county  \\\n",
      "0          Census Tract 28, Genesee County, Michigan       12423    26    049   \n",
      "1          Census Tract 38, Genesee County, Michigan       20250    26    049   \n",
      "2       Census Tract 219.01, Ottawa County, Michigan       79957    26    139   \n",
      "3       Census Tract 219.02, Ottawa County, Michigan       70944    26    139   \n",
      "4       Census Tract 220.01, Ottawa County, Michigan       63670    26    139   \n",
      "...                                              ...         ...   ...    ...   \n",
      "2808    Census Tract 14, Charlevoix County, Michigan       58143    26    029   \n",
      "2809    Census Tract 10, Charlevoix County, Michigan       52644    26    029   \n",
      "2810    Census Tract 11, Charlevoix County, Michigan       46042    26    029   \n",
      "2811    Census Tract 15, Charlevoix County, Michigan       33984    26    029   \n",
      "2812  Census Tract 9900, Charlevoix County, Michigan  -666666666    26    029   \n",
      "\n",
      "       tract  \n",
      "0     002800  \n",
      "1     003800  \n",
      "2     021901  \n",
      "3     021902  \n",
      "4     022001  \n",
      "...      ...  \n",
      "2808  001400  \n",
      "2809  001000  \n",
      "2810  001100  \n",
      "2811  001500  \n",
      "2812  990000  \n",
      "\n",
      "[2813 rows x 5 columns]\n"
     ]
    }
   ],
   "source": [
    "#prints each census tract value\n",
    "url = f'https://api.census.gov/data/2019/acs/acs5?get=NAME,{dataKey}&for=tract:*&in=state:{stateKey}&in=county:*&key='+census_api_key \n",
    "tractresponse = requests.request(\"GET\", url)\n",
    "tract_transform = json_to_dataframe(tractresponse)\n",
    "print(tract_transform)"
   ]
  },
  {
   "cell_type": "code",
   "execution_count": 14,
   "id": "c4e68ce7",
   "metadata": {
    "scrolled": true
   },
   "outputs": [
    {
     "name": "stdout",
     "output_type": "stream",
     "text": [
      "                                           NAME B19013_001E state county  \\\n",
      "0     Census Tract 28, Genesee County, Michigan       12423    26    049   \n",
      "1     Census Tract 38, Genesee County, Michigan       20250    26    049   \n",
      "2  Census Tract 219.01, Ottawa County, Michigan       79957    26    139   \n",
      "3  Census Tract 219.02, Ottawa County, Michigan       70944    26    139   \n",
      "4  Census Tract 220.01, Ottawa County, Michigan       63670    26    139   \n",
      "\n",
      "    tract  \n",
      "0  002800  \n",
      "1  003800  \n",
      "2  021901  \n",
      "3  021902  \n",
      "4  022001  \n"
     ]
    }
   ],
   "source": [
    "df = pd.DataFrame(tract_transform)\n",
    "print(df.head())"
   ]
  },
  {
   "cell_type": "code",
   "execution_count": 15,
   "id": "1b7b84d3",
   "metadata": {
    "scrolled": true
   },
   "outputs": [
    {
     "name": "stdout",
     "output_type": "stream",
     "text": [
      "                                               NAME  B19013_001E state county  \\\n",
      "391         Census Tract 1, Alcona County, Michigan        46154    26    001   \n",
      "398          Census Tract 2, Alger County, Michigan        53205    26    003   \n",
      "413      Census Tract 302, Allegan County, Michigan        86007    26    005   \n",
      "1473        Census Tract 7, Alpena County, Michigan        49198    26    007   \n",
      "1426     Census Tract 9606, Antrim County, Michigan        70637    26    009   \n",
      "...                                             ...          ...   ...    ...   \n",
      "2167      Census Tract 12, Tuscola County, Michigan        57697    26    157   \n",
      "2278   Census Tract 119, Van Buren County, Michigan        83177    26    159   \n",
      "955   Census Tract 4053, Washtenaw County, Michigan       192772    26    161   \n",
      "1437      Census Tract 5506, Wayne County, Michigan       215417    26    163   \n",
      "867     Census Tract 3804, Wexford County, Michigan        56557    26    165   \n",
      "\n",
      "       tract  \n",
      "391   000100  \n",
      "398   000200  \n",
      "413   030200  \n",
      "1473  000700  \n",
      "1426  960600  \n",
      "...      ...  \n",
      "2167  001200  \n",
      "2278  011900  \n",
      "955   405300  \n",
      "1437  550600  \n",
      "867   380400  \n",
      "\n",
      "[83 rows x 5 columns]\n"
     ]
    }
   ],
   "source": [
    "highest_value = []\n",
    "df[dataKey] = df[dataKey].astype(int)\n",
    "\n",
    "df1 = df.loc[df.reset_index().groupby('county')[dataKey].idxmax()]\n",
    "print(df1)\n"
   ]
  },
  {
   "cell_type": "code",
   "execution_count": 16,
   "id": "5dcc0395",
   "metadata": {},
   "outputs": [],
   "source": [
    "df1.to_csv(r'{}{}.csv'.format(outputLocation, outputName), index=False)"
   ]
  },
  {
   "cell_type": "code",
   "execution_count": null,
   "id": "78bae5ba",
   "metadata": {},
   "outputs": [],
   "source": []
  }
 ],
 "metadata": {
  "kernelspec": {
   "display_name": "Python 3",
   "language": "python",
   "name": "python3"
  },
  "language_info": {
   "codemirror_mode": {
    "name": "ipython",
    "version": 3
   },
   "file_extension": ".py",
   "mimetype": "text/x-python",
   "name": "python",
   "nbconvert_exporter": "python",
   "pygments_lexer": "ipython3",
   "version": "3.7.11"
  }
 },
 "nbformat": 4,
 "nbformat_minor": 5
}
